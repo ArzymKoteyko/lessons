{
 "cells": [
  {
   "cell_type": "code",
   "execution_count": 2,
   "metadata": {},
   "outputs": [
    {
     "name": "stdout",
     "output_type": "stream",
     "text": [
      "15\n",
      "-8\n",
      "-8\n"
     ]
    }
   ],
   "source": [
    "a = int(input())\n",
    "b = int(input())\n",
    "\n",
    "if a < b:\n",
    "    print(a)\n",
    "else:\n",
    "    print(b)"
   ]
  },
  {
   "cell_type": "code",
   "execution_count": 6,
   "metadata": {},
   "outputs": [
    {
     "name": "stdout",
     "output_type": "stream",
     "text": [
      "-15\n",
      "-1\n"
     ]
    }
   ],
   "source": [
    "num = int(input())\n",
    "\n",
    "if num > 0:\n",
    "    print(1)\n",
    "elif num < 0:\n",
    "    print(-1)\n",
    "else:\n",
    "    print(0)"
   ]
  },
  {
   "cell_type": "code",
   "execution_count": 11,
   "metadata": {},
   "outputs": [
    {
     "name": "stdout",
     "output_type": "stream",
     "text": [
      "1\n",
      "6\n",
      "7\n",
      "2\n",
      "YES\n"
     ]
    }
   ],
   "source": [
    "x_1 = int(input())\n",
    "y_1 = int(input())\n",
    "x_2 = int(input())\n",
    "y_2 = int(input())\n",
    "\n",
    "if (x_1 + y_1) % 2 == (x_2 + y_2) % 2:\n",
    "    print('YES')\n",
    "else:\n",
    "    print('NO')"
   ]
  },
  {
   "cell_type": "code",
   "execution_count": 20,
   "metadata": {},
   "outputs": [
    {
     "name": "stdout",
     "output_type": "stream",
     "text": [
      "2000\n",
      "YES\n"
     ]
    }
   ],
   "source": [
    "num = int(input())\n",
    "\n",
    "if num % 4 == 0 and (num % 100 != 0 or num % 400 == 0):\n",
    "    print('YES')\n",
    "else:\n",
    "    print('NO')"
   ]
  },
  {
   "cell_type": "code",
   "execution_count": 25,
   "metadata": {},
   "outputs": [
    {
     "name": "stdout",
     "output_type": "stream",
     "text": [
      "5\n",
      "4\n",
      "1\n",
      "1\n"
     ]
    }
   ],
   "source": [
    "a = int(input())\n",
    "b = int(input())\n",
    "c = int(input())\n",
    "\n",
    "if a < b and a < c:\n",
    "    print(a)\n",
    "if b < a and b < c:\n",
    "    print(b)\n",
    "if c < b and c < a:\n",
    "    print(c)"
   ]
  },
  {
   "cell_type": "code",
   "execution_count": 29,
   "metadata": {},
   "outputs": [
    {
     "name": "stdout",
     "output_type": "stream",
     "text": [
      "1\n",
      "2\n",
      "3\n",
      "0\n"
     ]
    }
   ],
   "source": [
    "a = int(input())\n",
    "b = int(input())\n",
    "c = int(input())\n",
    "\n",
    "if a == b == c:\n",
    "    print('3')\n",
    "elif a == b or a == c or b == c:\n",
    "    print('2')\n",
    "else:\n",
    "    print('0')"
   ]
  },
  {
   "cell_type": "code",
   "execution_count": 32,
   "metadata": {},
   "outputs": [
    {
     "name": "stdout",
     "output_type": "stream",
     "text": [
      "4\n",
      "4\n",
      "5\n",
      "3\n",
      "NO\n"
     ]
    }
   ],
   "source": [
    "x_1 = int(input())\n",
    "y_1 = int(input())\n",
    "x_2 = int(input())\n",
    "y_2 = int(input())\n",
    "\n",
    "if x_1 == x_2 or x_1 == y_2 or y_1 == x_2 or y_1 == y_2:\n",
    "    print('YES')\n",
    "else:\n",
    "    print('NO')"
   ]
  },
  {
   "cell_type": "code",
   "execution_count": 46,
   "metadata": {},
   "outputs": [
    {
     "name": "stdout",
     "output_type": "stream",
     "text": [
      "1\n",
      "7\n",
      "2\n",
      "8\n",
      "YES\n"
     ]
    }
   ],
   "source": [
    "import math\n",
    "\n",
    "x_1 = int(input())\n",
    "y_1 = int(input())\n",
    "x_2 = int(input())\n",
    "y_2 = int(input())\n",
    "\n",
    "dif_1 = math.fabs(x_1 - x_2)\n",
    "dif_2 = math.fabs(y_1 - y_2)\n",
    "\n",
    "if  (dif_1 == 1 and dif_2 == 1) or (dif_1 == 0 and dif_2 == 1) or (dif_1 == 1 and dif_2 == 0):\n",
    "    print('YES')\n",
    "else:\n",
    "    print('NO')"
   ]
  },
  {
   "cell_type": "code",
   "execution_count": 55,
   "metadata": {},
   "outputs": [
    {
     "name": "stdout",
     "output_type": "stream",
     "text": [
      "8\n",
      "7\n",
      "7\n",
      "6\n",
      "YES\n"
     ]
    }
   ],
   "source": [
    "x_1 = int(input())\n",
    "y_1 = int(input())\n",
    "x_2 = int(input())\n",
    "y_2 = int(input())\n",
    "\n",
    "sum_1 = x_1 + y_1\n",
    "sum_2 = x_2 + y_2\n",
    "\n",
    "if sum_1 == sum_2 or x_1 - x_2 == y_1 - y_2:\n",
    "    print('YES')\n",
    "else:\n",
    "    print('NO')"
   ]
  },
  {
   "cell_type": "code",
   "execution_count": 57,
   "metadata": {},
   "outputs": [
    {
     "name": "stdout",
     "output_type": "stream",
     "text": [
      "4\n",
      "5\n",
      "8\n",
      "4\n",
      "YES\n"
     ]
    }
   ],
   "source": [
    "x_1 = int(input())\n",
    "y_1 = int(input())\n",
    "x_2 = int(input())\n",
    "y_2 = int(input())\n",
    "\n",
    "sum_1 = x_1 + y_1\n",
    "sum_2 = x_2 + y_2\n",
    "\n",
    "if (sum_1 == sum_2 or x_1 - x_2 == y_1 - y_2) or (x_1 == x_2 or x_1 == y_2 or y_1 == x_2 or y_1 == y_2):\n",
    "    print('YES')\n",
    "else:\n",
    "    print('NO')"
   ]
  },
  {
   "cell_type": "code",
   "execution_count": 61,
   "metadata": {},
   "outputs": [
    {
     "name": "stdout",
     "output_type": "stream",
     "text": [
      "6\n",
      "3\n",
      "5\n",
      "5\n",
      "YES\n"
     ]
    }
   ],
   "source": [
    "import math\n",
    "\n",
    "x_1 = int(input())\n",
    "y_1 = int(input())\n",
    "x_2 = int(input())\n",
    "y_2 = int(input())\n",
    "\n",
    "\n",
    "\n",
    "if (math.fabs(x_1 - x_2) == 1 and math.fabs(y_1 - y_2) == 2) or (math.fabs(x_1 - x_2) == 2 and math.fabs(y_1 - y_2) == 1):\n",
    "    print('YES')\n",
    "else:\n",
    "    print('NO')"
   ]
  },
  {
   "cell_type": "code",
   "execution_count": 62,
   "metadata": {},
   "outputs": [
    {
     "name": "stdout",
     "output_type": "stream",
     "text": [
      "4\n",
      "2\n",
      "6\n",
      "NO\n"
     ]
    }
   ],
   "source": [
    "n = int(input())\n",
    "m = int(input())\n",
    "k = int(input())\n",
    "\n",
    "if (k % n == 0 or k % m == 0) and (k < n * m):\n",
    "    print('YES')\n",
    "else:\n",
    "    print('NO')"
   ]
  },
  {
   "cell_type": "code",
   "execution_count": 69,
   "metadata": {},
   "outputs": [
    {
     "name": "stdout",
     "output_type": "stream",
     "text": [
      "18\n",
      "5\n",
      "5\n",
      "5\n",
      "0\n"
     ]
    }
   ],
   "source": [
    "import math\n",
    "\n",
    "N = int(input())\n",
    "M = int(input())\n",
    "sides = [N, M]\n",
    "sides.sort()\n",
    "N = sides[1]\n",
    "M = sides[0]\n",
    "\n",
    "x = int(input())\n",
    "y = int(input())\n",
    "\n",
    "x_min = min (x, M - x)\n",
    "y_min = min (y, N - y)\n",
    "\n",
    "print(min(x_min, y_min))"
   ]
  }
 ],
 "metadata": {
  "kernelspec": {
   "display_name": "Python 3",
   "language": "python",
   "name": "python3"
  },
  "language_info": {
   "codemirror_mode": {
    "name": "ipython",
    "version": 3
   },
   "file_extension": ".py",
   "mimetype": "text/x-python",
   "name": "python",
   "nbconvert_exporter": "python",
   "pygments_lexer": "ipython3",
   "version": "3.7.4"
  }
 },
 "nbformat": 4,
 "nbformat_minor": 2
}
