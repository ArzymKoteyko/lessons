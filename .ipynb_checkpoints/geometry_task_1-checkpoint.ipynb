{
 "cells": [
  {
   "cell_type": "code",
   "execution_count": 14,
   "metadata": {},
   "outputs": [
    {
     "name": "stdout",
     "output_type": "stream",
     "text": [
      "5\n",
      "6.249999999999998\n",
      "6.25\n"
     ]
    }
   ],
   "source": [
    "import math as m\n",
    "\n",
    "r_1 = int(input())\n",
    "\n",
    "r_2 = m.sqrt((r_1 ** 2) * 2) / 2\n",
    "\n",
    "sq_1 = ((r_1/2)**2 * 3.14) / 2\n",
    "\n",
    "sq_2 = ((r_2**2 * 3.14) / 2 - (r_1**2 / 2)) / 2\n",
    "\n",
    "sq = sq_1 - sq_2\n",
    "\n",
    "print(sq)\n",
    "print(r_1**2/4)"
   ]
  }
 ],
 "metadata": {
  "kernelspec": {
   "display_name": "Python 3",
   "language": "python",
   "name": "python3"
  },
  "language_info": {
   "codemirror_mode": {
    "name": "ipython",
    "version": 3
   },
   "file_extension": ".py",
   "mimetype": "text/x-python",
   "name": "python",
   "nbconvert_exporter": "python",
   "pygments_lexer": "ipython3",
   "version": "3.7.4"
  }
 },
 "nbformat": 4,
 "nbformat_minor": 2
}
