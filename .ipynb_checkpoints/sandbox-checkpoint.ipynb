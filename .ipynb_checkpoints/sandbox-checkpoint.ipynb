{
 "cells": [
  {
   "cell_type": "code",
   "execution_count": 29,
   "metadata": {},
   "outputs": [],
   "source": [
    "import math, time, random\n",
    "from matplotlib import pyplot as plt "
   ]
  },
  {
   "cell_type": "code",
   "execution_count": 2,
   "metadata": {
    "scrolled": true
   },
   "outputs": [
    {
     "name": "stdout",
     "output_type": "stream",
     "text": [
      "1000\n",
      "0.0009975433349609375\n"
     ]
    }
   ],
   "source": [
    "ammount = int(input())\n",
    "\n",
    "primes = [0] * ammount\n",
    "prime_nums = []\n",
    "\n",
    "start = time.time()\n",
    "for i in range(2, int(math.sqrt(ammount))):\n",
    "    if primes[i] == 0:\n",
    "        for j in range(i*2,ammount//i):\n",
    "            primes[j*i] = 1\n",
    "            \n",
    "for i in range(2, ammount):\n",
    "    if primes[i] == 0:\n",
    "        prime_nums.extend([i])\n",
    "finish = time.time()\n",
    "\n",
    "print(finish - start)"
   ]
  },
  {
   "cell_type": "code",
   "execution_count": 3,
   "metadata": {},
   "outputs": [
    {
     "name": "stdout",
     "output_type": "stream",
     "text": [
      "1 2 3 4\n",
      "{1, 2, 3, 4}\n"
     ]
    }
   ],
   "source": [
    "a = set(map(int, input().strip().split()))\n",
    "\n",
    "print(a)"
   ]
  },
  {
   "cell_type": "code",
   "execution_count": 44,
   "metadata": {},
   "outputs": [
    {
     "data": {
      "text/plain": [
       "[<matplotlib.lines.Line2D at 0x1aa3196a5c8>]"
      ]
     },
     "execution_count": 44,
     "metadata": {},
     "output_type": "execute_result"
    },
    {
     "data": {
      "image/png": "[encoded data removed]",
      "text/plain": [
       "<Figure size 432x288 with 1 Axes>"
      ]
     },
     "metadata": {
      "needs_background": "light"
     },
     "output_type": "display_data"
    }
   ],
   "source": [
    "x = [i for i in range(0,10)]\n",
    "y = [random.randint(0,10) for i in range(0,10)]\n",
    "plt.plot(x,y)"
   ]
  },
  {
   "cell_type": "code",
   "execution_count": 39,
   "metadata": {},
   "outputs": [
    {
     "ename": "TclError",
     "evalue": "invalid command name \".!canvas\"",
     "output_type": "error",
     "traceback": [
      "\u001b[1;31m---------------------------------------------------------------------------\u001b[0m",
      "\u001b[1;31mTclError\u001b[0m                                  Traceback (most recent call last)",
      "\u001b[1;32m<ipython-input-39-455a2b2957b0>\u001b[0m in \u001b[0;36m<module>\u001b[1;34m\u001b[0m\n\u001b[0;32m     44\u001b[0m     \u001b[0mrandom_move\u001b[0m \u001b[1;33m=\u001b[0m \u001b[0mrandom\u001b[0m\u001b[1;33m.\u001b[0m\u001b[0mrandint\u001b[0m\u001b[1;33m(\u001b[0m\u001b[1;36m1\u001b[0m\u001b[1;33m,\u001b[0m\u001b[1;36m3\u001b[0m\u001b[1;33m)\u001b[0m\u001b[1;33m\u001b[0m\u001b[1;33m\u001b[0m\u001b[0m\n\u001b[0;32m     45\u001b[0m \u001b[1;33m\u001b[0m\u001b[0m\n\u001b[1;32m---> 46\u001b[1;33m     \u001b[0mcanvas\u001b[0m\u001b[1;33m.\u001b[0m\u001b[0mcreate_oval\u001b[0m\u001b[1;33m(\u001b[0m\u001b[0mcurpoint\u001b[0m\u001b[1;33m[\u001b[0m\u001b[1;36m0\u001b[0m\u001b[1;33m]\u001b[0m\u001b[1;33m,\u001b[0m\u001b[0mcurpoint\u001b[0m\u001b[1;33m[\u001b[0m\u001b[1;36m1\u001b[0m\u001b[1;33m]\u001b[0m\u001b[1;33m,\u001b[0m\u001b[0mcurpoint\u001b[0m\u001b[1;33m[\u001b[0m\u001b[1;36m0\u001b[0m\u001b[1;33m]\u001b[0m\u001b[1;33m,\u001b[0m\u001b[0mcurpoint\u001b[0m\u001b[1;33m[\u001b[0m\u001b[1;36m1\u001b[0m\u001b[1;33m]\u001b[0m\u001b[1;33m,\u001b[0m \u001b[0mwidth\u001b[0m \u001b[1;33m=\u001b[0m \u001b[1;36m1\u001b[0m\u001b[1;33m)\u001b[0m\u001b[1;33m\u001b[0m\u001b[1;33m\u001b[0m\u001b[0m\n\u001b[0m\u001b[0;32m     47\u001b[0m     \u001b[1;32mif\u001b[0m \u001b[0mrandom_move\u001b[0m \u001b[1;33m==\u001b[0m \u001b[1;36m1\u001b[0m\u001b[1;33m:\u001b[0m\u001b[1;33m\u001b[0m\u001b[1;33m\u001b[0m\u001b[0m\n\u001b[0;32m     48\u001b[0m         \u001b[0mcurpoint\u001b[0m \u001b[1;33m=\u001b[0m \u001b[0mmove\u001b[0m\u001b[1;33m(\u001b[0m\u001b[0mpoint1\u001b[0m\u001b[1;33m[\u001b[0m\u001b[1;36m0\u001b[0m\u001b[1;33m]\u001b[0m\u001b[1;33m,\u001b[0m\u001b[0mpoint1\u001b[0m\u001b[1;33m[\u001b[0m\u001b[1;36m1\u001b[0m\u001b[1;33m]\u001b[0m\u001b[1;33m,\u001b[0m\u001b[0mcurpoint\u001b[0m\u001b[1;33m[\u001b[0m\u001b[1;36m0\u001b[0m\u001b[1;33m]\u001b[0m\u001b[1;33m,\u001b[0m\u001b[0mcurpoint\u001b[0m\u001b[1;33m[\u001b[0m\u001b[1;36m1\u001b[0m\u001b[1;33m]\u001b[0m\u001b[1;33m)\u001b[0m\u001b[1;33m\u001b[0m\u001b[1;33m\u001b[0m\u001b[0m\n",
      "\u001b[1;32m~\\Anaconda3\\lib\\tkinter\\__init__.py\u001b[0m in \u001b[0;36mcreate_oval\u001b[1;34m(self, *args, **kw)\u001b[0m\n\u001b[0;32m   2493\u001b[0m     \u001b[1;32mdef\u001b[0m \u001b[0mcreate_oval\u001b[0m\u001b[1;33m(\u001b[0m\u001b[0mself\u001b[0m\u001b[1;33m,\u001b[0m \u001b[1;33m*\u001b[0m\u001b[0margs\u001b[0m\u001b[1;33m,\u001b[0m \u001b[1;33m**\u001b[0m\u001b[0mkw\u001b[0m\u001b[1;33m)\u001b[0m\u001b[1;33m:\u001b[0m\u001b[1;33m\u001b[0m\u001b[1;33m\u001b[0m\u001b[0m\n\u001b[0;32m   2494\u001b[0m         \u001b[1;34m\"\"\"Create oval with coordinates x1,y1,x2,y2.\"\"\"\u001b[0m\u001b[1;33m\u001b[0m\u001b[1;33m\u001b[0m\u001b[0m\n\u001b[1;32m-> 2495\u001b[1;33m         \u001b[1;32mreturn\u001b[0m \u001b[0mself\u001b[0m\u001b[1;33m.\u001b[0m\u001b[0m_create\u001b[0m\u001b[1;33m(\u001b[0m\u001b[1;34m'oval'\u001b[0m\u001b[1;33m,\u001b[0m \u001b[0margs\u001b[0m\u001b[1;33m,\u001b[0m \u001b[0mkw\u001b[0m\u001b[1;33m)\u001b[0m\u001b[1;33m\u001b[0m\u001b[1;33m\u001b[0m\u001b[0m\n\u001b[0m\u001b[0;32m   2496\u001b[0m     \u001b[1;32mdef\u001b[0m \u001b[0mcreate_polygon\u001b[0m\u001b[1;33m(\u001b[0m\u001b[0mself\u001b[0m\u001b[1;33m,\u001b[0m \u001b[1;33m*\u001b[0m\u001b[0margs\u001b[0m\u001b[1;33m,\u001b[0m \u001b[1;33m**\u001b[0m\u001b[0mkw\u001b[0m\u001b[1;33m)\u001b[0m\u001b[1;33m:\u001b[0m\u001b[1;33m\u001b[0m\u001b[1;33m\u001b[0m\u001b[0m\n\u001b[0;32m   2497\u001b[0m         \u001b[1;34m\"\"\"Create polygon with coordinates x1,y1,...,xn,yn.\"\"\"\u001b[0m\u001b[1;33m\u001b[0m\u001b[1;33m\u001b[0m\u001b[0m\n",
      "\u001b[1;32m~\\Anaconda3\\lib\\tkinter\\__init__.py\u001b[0m in \u001b[0;36m_create\u001b[1;34m(self, itemType, args, kw)\u001b[0m\n\u001b[0;32m   2478\u001b[0m         return self.tk.getint(self.tk.call(\n\u001b[0;32m   2479\u001b[0m             \u001b[0mself\u001b[0m\u001b[1;33m.\u001b[0m\u001b[0m_w\u001b[0m\u001b[1;33m,\u001b[0m \u001b[1;34m'create'\u001b[0m\u001b[1;33m,\u001b[0m \u001b[0mitemType\u001b[0m\u001b[1;33m,\u001b[0m\u001b[1;33m\u001b[0m\u001b[1;33m\u001b[0m\u001b[0m\n\u001b[1;32m-> 2480\u001b[1;33m             *(args + self._options(cnf, kw))))\n\u001b[0m\u001b[0;32m   2481\u001b[0m     \u001b[1;32mdef\u001b[0m \u001b[0mcreate_arc\u001b[0m\u001b[1;33m(\u001b[0m\u001b[0mself\u001b[0m\u001b[1;33m,\u001b[0m \u001b[1;33m*\u001b[0m\u001b[0margs\u001b[0m\u001b[1;33m,\u001b[0m \u001b[1;33m**\u001b[0m\u001b[0mkw\u001b[0m\u001b[1;33m)\u001b[0m\u001b[1;33m:\u001b[0m\u001b[1;33m\u001b[0m\u001b[1;33m\u001b[0m\u001b[0m\n\u001b[0;32m   2482\u001b[0m         \u001b[1;34m\"\"\"Create arc shaped region with coordinates x1,y1,x2,y2.\"\"\"\u001b[0m\u001b[1;33m\u001b[0m\u001b[1;33m\u001b[0m\u001b[0m\n",
      "\u001b[1;31mTclError\u001b[0m: invalid command name \".!canvas\""
     ]
    }
   ],
   "source": [
    "from tkinter import *\n",
    "import random\n",
    "import time\n",
    "import math\n",
    "\n",
    "def move(x1,y1,x2,y2):\n",
    "    difx = math.fabs(x1 - x2) / 2 \n",
    "    dify = math.fabs(y1 - y2) / 2\n",
    "    if math.fabs(x1 - (x2 + difx)) <= math.fabs(x1 - x2):\n",
    "        x3 = x2 + difx\n",
    "    else:\n",
    "        x3 = x2 - difx\n",
    "    if math.fabs(y1 - (y2 + dify)) <= math.fabs(y1 - y2):\n",
    "        y3 = y2 + dify\n",
    "    else:\n",
    "        y3 = y2 - dify\n",
    "    return[x3,y3]\n",
    "    \n",
    "    \n",
    "\n",
    "root = Tk()  \n",
    "\n",
    "Height = 1080\n",
    "Width =  1080\n",
    "\n",
    "canvas = Canvas(root, width = Width, height = Height)\n",
    "root.title('Fractal')\n",
    "canvas.pack()\n",
    "\n",
    "point1 = [300,100]\n",
    "point2 = [50, 800]\n",
    "point3 = [900, 800]\n",
    "curpoint = [100,100]\n",
    "#canvas.create_line(point1[0],point1[1],point2[0],point2[1])\n",
    "#canvas.create_line(point2[0],point2[1],point3[0],point3[1])\n",
    "#canvas.create_line(point3[0],point3[1],point1[0],point1[1])\n",
    "\n",
    "\n",
    "\n",
    "while True:\n",
    "    \n",
    "    #canvas.move(object,x,y)\n",
    "    \n",
    "    random_move = random.randint(1,3)    \n",
    "    \n",
    "    canvas.create_oval(curpoint[0],curpoint[1],curpoint[0],curpoint[1], width = 1)\n",
    "    if random_move == 1:\n",
    "        curpoint = move(point1[0],point1[1],curpoint[0],curpoint[1])\n",
    "    if random_move == 2:\n",
    "        curpoint = move(point2[0],point2[1],curpoint[0],curpoint[1])\n",
    "    if random_move == 3:\n",
    "        curpoint = move(point3[0],point3[1],curpoint[0],curpoint[1])\n",
    "    \n",
    "    root.update()\n",
    "    \n",
    "    #time.sleep(0.2)"
   ]
  },
  {
   "cell_type": "code",
   "execution_count": null,
   "metadata": {},
   "outputs": [
    {
     "name": "stdout",
     "output_type": "stream",
     "text": [
      "arrow name : alex\n",
      "pos x : 100\n",
      "pos y : 100\n",
      "[100, 100, 37.21482254965896, 116.82324262825652, 50.0, 100.0, 37.21482254965896, 83.17675737174349]\n"
     ]
    }
   ],
   "source": [
    "from tkinter import *\n",
    "import random, time, math         \n",
    "\n",
    "Pi = 3.14159265358979323846\n",
    "\n",
    "class Arrow:\n",
    "        \n",
    "    weights = [0] * 10\n",
    "    \n",
    "    def __init__(self, name, pos_x, pos_y, movment_angle):\n",
    "        self.name = name\n",
    "        self.pos_x = pos_x\n",
    "        self.pos_y = pos_y\n",
    "        self.movment_angle = (movment_angle * Pi) / 180\n",
    "        self.polygon = [self.pos_x,self.pos_y]\n",
    "        self.polygon.extend([math.cos(self.movment_angle - 0.261799462603312) * (65) + self.pos_x, math.sin(self.movment_angle - 0.261799462603312) * (65) + self.pos_y])\n",
    "        self.polygon.extend([math.cos(self.movment_angle) * (50) + self.pos_x, math.sin(self.movment_angle) * (50) + self.pos_y])\n",
    "        self.polygon.extend([math.cos(self.movment_angle + 0.261799462603312) * (65) + self.pos_x, math.sin(self.movment_angle + 0.261799462603312) * (65) + self.pos_y])\n",
    "        \n",
    "        \n",
    "        \n",
    "        for i in range(10):\n",
    "            self.weights[i] = random.randint(0,100) / 100\n",
    "            \n",
    "    def move(self,speed):\n",
    "        self.pos_x -= speed * math.cos(self.movment_angle)\n",
    "        self.pos_y -= speed * math.sin(self.movment_angle)\n",
    "        self.polygon[0] -= speed * math.cos(self.movment_angle)\n",
    "        self.polygon[1] -= speed * math.sin(self.movment_angle)\n",
    "        self.polygon[2] -= speed * math.cos(self.movment_angle)\n",
    "        self.polygon[3] -= speed * math.sin(self.movment_angle)\n",
    "        self.polygon[4] -= speed * math.cos(self.movment_angle)\n",
    "        self.polygon[5] -= speed * math.sin(self.movment_angle)\n",
    "        self.polygon[6] -= speed * math.cos(self.movment_angle)\n",
    "        self.polygon[7] -= speed * math.sin(self.movment_angle)\n",
    "        \n",
    "    def rotate(self,angle):\n",
    "        self.movment_angle += (angle * Pi) / 180\n",
    "        self.polygon[2] = math.cos(self.movment_angle + 0.261799462603312) * (65) + self.pos_x\n",
    "        self.polygon[3] = math.sin(self.movment_angle + 0.261799462603312) * (65) + self.pos_y\n",
    "        self.polygon[4] = math.cos(self.movment_angle) * (50) + self.pos_x\n",
    "        self.polygon[5] = math.sin(self.movment_angle) * (50) + self.pos_y\n",
    "        self.polygon[6] = math.cos(self.movment_angle - 0.261799462603312) * (65) + self.pos_x\n",
    "        self.polygon[7] = math.sin(self.movment_angle - 0.261799462603312) * (65) + self.pos_y\n",
    "            \n",
    "    def print_self(self):\n",
    "        print('arrow name :',self.name)\n",
    "        print('pos x :',self.pos_x)\n",
    "        print('pos y :',self.pos_y)\n",
    "        #print('weights :',self.weights)\n",
    "        print(self.polygon)\n",
    "        \n",
    "    def pos(self, index):\n",
    "        return(self.polygon[index])\n",
    "    \n",
    "    def angle(self):\n",
    "        return(self.movment_angle)\n",
    "\n",
    "        \n",
    "root = Tk()\n",
    "\n",
    "Height = 300\n",
    "Width = 300\n",
    "\n",
    "canvas = Canvas(root, width = Width, height = Height)\n",
    "root.title('Graphics')\n",
    "canvas.pack()\n",
    "mike = Arrow('mike', 200, 200, 90)    \n",
    "arrow = Arrow('alex', 100, 100, 180)\n",
    "arrow.print_self()\n",
    "\n",
    "obj = canvas.create_polygon(arrow.pos(0),arrow.pos(1),arrow.pos(2),arrow.pos(3),arrow.pos(4),arrow.pos(5),arrow.pos(6),arrow.pos(7))\n",
    "obj_1 = canvas.create_polygon(mike.pos(0),mike.pos(1),mike.pos(2),mike.pos(3),mike.pos(4),mike.pos(5),mike.pos(6),mike.pos(7))\n",
    "\n",
    "while True:\n",
    "    root.update()\n",
    "    \n",
    "    canvas.coords(obj, arrow.pos(0),arrow.pos(1),arrow.pos(2),arrow.pos(3),arrow.pos(4),arrow.pos(5),arrow.pos(6),arrow.pos(7))\n",
    "    canvas.coords(obj_1, mike.pos(0),mike.pos(1),mike.pos(2),mike.pos(3),mike.pos(4),mike.pos(5),mike.pos(6),mike.pos(7))\n",
    "    \n",
    "    arrow.move(1)\n",
    "    arrow.rotate(1)\n",
    "    mike.move(1)\n",
    "    mike.rotate(-1)\n",
    "    \n",
    "    #print(arrow.angle(), arrow.pos(0),arrow.pos(1),arrow.pos(2),arrow.pos(3),arrow.pos(4),arrow.pos(5),arrow.pos(6),arrow.pos(7))\n",
    "    time.sleep(0.005)\n",
    "\n",
    "    \n",
    "    "
   ]
  },
  {
   "cell_type": "code",
   "execution_count": null,
   "metadata": {},
   "outputs": [],
   "source": []
  },
  {
   "cell_type": "code",
   "execution_count": null,
   "metadata": {},
   "outputs": [],
   "source": []
  }
 ],
 "metadata": {
  "kernelspec": {
   "display_name": "Python 3",
   "language": "python",
   "name": "python3"
  },
  "language_info": {
   "codemirror_mode": {
    "name": "ipython",
    "version": 3
   },
   "file_extension": ".py",
   "mimetype": "text/x-python",
   "name": "python",
   "nbconvert_exporter": "python",
   "pygments_lexer": "ipython3",
   "version": "3.7.4"
  }
 },
 "nbformat": 4,
 "nbformat_minor": 2
}
