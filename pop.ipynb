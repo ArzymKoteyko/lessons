{
 "cells": [
  {
   "cell_type": "code",
   "execution_count": 42,
   "metadata": {},
   "outputs": [
    {
     "name": "stdout",
     "output_type": "stream",
     "text": [
      "(0, 0) (0, 4) (4, 0)\n",
      "((0, 0), (0, 4), (4, 0))\n",
      "13.65685424949238 8.0\n"
     ]
    }
   ],
   "source": [
    "def dist(p1, p2):\n",
    "    return ((p1.x - p2.x)**2 + (p1.y - p2.y)**2)**0.5\n",
    "                                                  \n",
    "class Point:\n",
    "    def __init__(self, x, y):\n",
    "        self.x = x\n",
    "        self.y = y\n",
    "    def __str__(self):\n",
    "        return '({}, {})'.format(self.x, self.y)\n",
    "\n",
    "class Triangle:\n",
    "    def __init__(self, p_1, p_2, p_3):\n",
    "        self.p_1 = p_1\n",
    "        self.p_2 = p_2\n",
    "        self.p_3 = p_3\n",
    "    def __str__(self):\n",
    "        s = ''\n",
    "        s += '(' + str(p_1) + ', '\n",
    "        s += str(p_2) + ', '\n",
    "        s += str(p_3) + ')'\n",
    "        return s   \n",
    "    def square(self):\n",
    "        return math.fabs(p_1.x*p_2.y + p_2.x*p_3.y + p_3.x*p_1.y - p_1.y*p_2.x - p_2.y*p_3.x - p_3.y*p_1.x) / 2 \n",
    "    def perimetr(self):\n",
    "        return dist(p_1, p_2) + dist(p_2, p_3) + dist(p_3, p_1)\n",
    "    \n",
    "p_1 = Point(0,0)\n",
    "p_2 = Point(0,4)\n",
    "p_3 = Point(4,0)\n",
    "\n",
    "triangle = Triangle(p_1, p_2, p_3)\n",
    "\n",
    "P = triangle.perimetr()\n",
    "S = triangle.square()\n",
    "\n",
    "print(p_1, p_2, p_3)\n",
    "print(triangle)\n",
    "print(P, S)"
   ]
  },
  {
   "cell_type": "code",
   "execution_count": null,
   "metadata": {},
   "outputs": [],
   "source": []
  }
 ],
 "metadata": {
  "kernelspec": {
   "display_name": "Python 3",
   "language": "python",
   "name": "python3"
  },
  "language_info": {
   "codemirror_mode": {
    "name": "ipython",
    "version": 3
   },
   "file_extension": ".py",
   "mimetype": "text/x-python",
   "name": "python",
   "nbconvert_exporter": "python",
   "pygments_lexer": "ipython3",
   "version": "3.7.4"
  }
 },
 "nbformat": 4,
 "nbformat_minor": 2
}
