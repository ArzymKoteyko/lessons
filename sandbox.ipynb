{
 "cells": [
  {
   "cell_type": "code",
   "execution_count": 1,
   "metadata": {},
   "outputs": [],
   "source": [
    "import math, time, random"
   ]
  },
  {
   "cell_type": "code",
   "execution_count": 3,
   "metadata": {},
   "outputs": [
    {
     "name": "stdout",
     "output_type": "stream",
     "text": [
      "10000000\n",
      "3.0668234825134277\n"
     ]
    }
   ],
   "source": [
    "ammount = int(input())\n",
    "\n",
    "primes = [0] * ammount\n",
    "prime_nums = []\n",
    "\n",
    "start = time.time()\n",
    "for i in range(2, int(math.sqrt(ammount))):\n",
    "    if primes[i] == 0:\n",
    "        for j in range(2*i, ammount, i):\n",
    "            primes[j] = 1\n",
    "for i in range(2, ammount):\n",
    "    if primes[i] == 0:\n",
    "        prime_nums.extend([i])\n",
    "finish = time.time()\n",
    "print(finish - start)"
   ]
  },
  {
   "cell_type": "code",
   "execution_count": null,
   "metadata": {},
   "outputs": [],
   "source": []
  }
 ],
 "metadata": {
  "kernelspec": {
   "display_name": "Python 3",
   "language": "python",
   "name": "python3"
  },
  "language_info": {
   "codemirror_mode": {
    "name": "ipython",
    "version": 3
   },
   "file_extension": ".py",
   "mimetype": "text/x-python",
   "name": "python",
   "nbconvert_exporter": "python",
   "pygments_lexer": "ipython3",
   "version": "3.7.4"
  }
 },
 "nbformat": 4,
 "nbformat_minor": 2
}
